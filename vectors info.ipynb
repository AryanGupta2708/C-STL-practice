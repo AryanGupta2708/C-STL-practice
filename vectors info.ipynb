{
 "cells": [
  {
   "cell_type": "markdown",
   "metadata": {},
   "source": [
    "C++ Vector Functions\n",
    "Function\t    Description\n",
    "at()\t        It provides a reference to an element.\n",
    "back()\t        It gives a reference to the last element.\n",
    "front()\t        It gives a reference to the first element.\n",
    "swap()\t        It exchanges the elements between two vectors.\n",
    "push_back()\t    It adds a new element at the end.\n",
    "pop_back()\t    It removes a last element from the vector.\n",
    "empty()\t        It determines whether the vector is empty or not.\n",
    "insert()\t    It inserts new element at the specified position.\n",
    "erase()\t        It deletes the specified element.\n",
    "resize()\t    It modifies the size of the vector.\n",
    "clear()\t        It removes all the elements from the vector.\n",
    "size()\t        It determines a number of elements in the vector.\n",
    "capacity()\t    It determines the current capacity of the vector.\n",
    "assign()\t    It assigns new values to the vector.\n",
    "operator=()\t    It assigns new values to the vector container.\n",
    "operator[]()\tIt access a specified element.\n",
    "end()\t        It refers to the past-lats-element in the vector.\n",
    "emplace()\t    It inserts a new element just before the position pos.\n",
    "emplace_back()\tIt inserts a new element at the end.\n",
    "rend()\t        It points the element preceding the first element of the vector.\n",
    "rbegin()\t    It points the last element of the vector.\n",
    "begin()\t        It points the first element of the vector.\n",
    "max_size()\t    It determines the maximum size that vector can hold.\n",
    "cend()\t        It refers to the past-last-element in the vector.\n",
    "cbegin()\t    It refers to the first element of the vector.\n",
    "crbegin()\t    It refers to the last character of the vector.\n",
    "crend()\t        It refers to the element preceding the first element of the vector.\n",
    "data()\t        It writes the data of the vector into an array.\n",
    "shrink_to_fit()\tIt reduces the capacity and makes it equal to the size of the vector.\n"
   ]
  },
  {
   "cell_type": "code",
   "execution_count": null,
   "metadata": {
    "vscode": {
     "languageId": "cpp"
    }
   },
   "outputs": [],
   "source": [
    "//at()\n",
    "\n",
    "#include<iostream>  \n",
    "#include<vector>  \n",
    "using namespace std;  \n",
    "int main()  \n",
    "{  \n",
    "vector<int> v1{1,2,3,4};  \n",
    "for(int i=0;i<v1.size();i++)  \n",
    "cout<<v1.at(i);  \n",
    "return 0;   \n",
    "}  "
   ]
  },
  {
   "cell_type": "code",
   "execution_count": null,
   "metadata": {
    "vscode": {
     "languageId": "cpp"
    }
   },
   "outputs": [],
   "source": [
    "//v.back();\n",
    "\n",
    "#include<iostream>  \n",
    "#include<vector>  \n",
    "using namespace std;  \n",
    "int main()  \n",
    "{  \n",
    "vector<string>  fruit{\"mango\",\"apple\",\"banana\"};  \n",
    "cout<<fruit.back();  \n",
    "return 0;   \n",
    "}  "
   ]
  },
  {
   "cell_type": "code",
   "execution_count": null,
   "metadata": {
    "vscode": {
     "languageId": "cpp"
    }
   },
   "outputs": [],
   "source": [
    "//v.front();  \n",
    "\n",
    "#include<iostream>  \n",
    "#include<vector>  \n",
    "using namespace std;  \n",
    "int main()  \n",
    "{  \n",
    "vector<string>  language{\"java\",\"C\",\"C++\"};  \n",
    "cout<<language.front();  \n",
    "return 0;   \n",
    "}  "
   ]
  },
  {
   "cell_type": "code",
   "execution_count": null,
   "metadata": {
    "vscode": {
     "languageId": "cpp"
    }
   },
   "outputs": [],
   "source": [
    "//v1.swap(v2);  \n",
    "\n",
    "#include<iostream>  \n",
    "#include<vector>  \n",
    "using namespace std;  \n",
    "int main()  \n",
    "{  \n",
    "vector<int>  v1={1,2,3,4,5};  \n",
    "vector<int>  v2={6,7,8,9,10};  \n",
    "cout<<\"Before swapping,elements of v1 are :\";  \n",
    "for (int i=0;i<v1.size();i++)  \n",
    "cout<<v1[i]<<\" \";  \n",
    "cout<<'\\n';  \n",
    "cout<<\"Before swapping,elements of v2 are :\";  \n",
    "for(int i=0;i<v2.size();i++)  \n",
    "cout<<v2[i]<<\" \";  \n",
    "cout<<'\\n';  \n",
    "v1.swap(v2);  \n",
    "cout<<\"After swapping,elements of v1 are  :\";  \n",
    "for(int i=0;i<v1.size();i++)  \n",
    "cout<<v1[i]<<\" \";  \n",
    "cout<<'\\n';  \n",
    "cout<<\"After swapping,elements of v2 are:\";  \n",
    "for(int i=0;i<v2.size();i++)  \n",
    "cout<<v2[i]<<\" \";  \n",
    "return 0;  \n",
    "}  "
   ]
  },
  {
   "cell_type": "code",
   "execution_count": null,
   "metadata": {
    "vscode": {
     "languageId": "cpp"
    }
   },
   "outputs": [],
   "source": [
    "//v.push_back(k)  \n",
    "\n",
    "#include<iostream>  \n",
    "#include<vector>  \n",
    "using namespace std;  \n",
    "int main()  \n",
    "{  \n",
    "    vector<char> v;  \n",
    "    v.push_back('j');  \n",
    "    v.push_back('a');  \n",
    "    v.push_back('v');  \n",
    "    v.push_back('a');  \n",
    "    for(int i=0;i<v.size();i++)  \n",
    "    cout<<v[i];  \n",
    "    return 0;  \n",
    "}  "
   ]
  },
  {
   "cell_type": "code",
   "execution_count": null,
   "metadata": {
    "vscode": {
     "languageId": "cpp"
    }
   },
   "outputs": [],
   "source": [
    "//v.pop_back();  \n",
    "\n",
    "#include<iostream>  \n",
    "#include<vector>  \n",
    "using namespace std;  \n",
    "int main()  \n",
    "{  \n",
    "vector<string> v{\"welcome\",\"to\",\"javaTpoint\",\"tutorial\"};  \n",
    "cout<<\"Initial string is :\";  \n",
    "for(inti=0;i<v.size();i++)  \n",
    "cout<<v[i]<<\" \";  \n",
    "cout<<'\\n';  \n",
    "cout<<\"After deleting last string, string is :\";  \n",
    "v.pop_back();  \n",
    "for(int i=0;i<v.size();i++)  \n",
    "cout<<v[i]<<\" \";  \n",
    "return 0;  \n",
    "}  "
   ]
  },
  {
   "cell_type": "code",
   "execution_count": null,
   "metadata": {
    "vscode": {
     "languageId": "cpp"
    }
   },
   "outputs": [],
   "source": [
    "//insert(iterator,val);  \n",
    "//insert(iterator,n,val);  \n",
    "//insert(iterator,InputIterator first,InputIterator last);  \n",
    "/*\n",
    "Parameter\n",
    "iterator:An iterator defines the position, where the new elements are to be inserted.\n",
    "val: The valspecifies the value which is to be inserted.\n",
    "n: Number of times the value is to be occurred.\n",
    "(first,last): It defines the range of elements which is to be inserted.\n",
    "*/\n",
    "\n",
    "#include<iostream>  \n",
    "#include<vector>  \n",
    "using namespace std;  \n",
    "int main()  \n",
    "{  \n",
    "    vector<int> v{1,2,3,4,5};  \n",
    "    vector<int> v1{6,7,8,9,10};  \n",
    "    v.insert(v.end(),v1.begin(),v1.begin()+5);  \n",
    "    for(int i=0;i<v.size();i++)  \n",
    "    cout<<v[i]<<\" \";  \n",
    "    return 0;  \n",
    "}  "
   ]
  },
  {
   "cell_type": "code",
   "execution_count": null,
   "metadata": {
    "vscode": {
     "languageId": "cpp"
    }
   },
   "outputs": [],
   "source": [
    "//v.erase(pos);  \n",
    "//v.erase(start_iterator,end_iterator);  \n",
    "\n",
    "#include<iostream>  \n",
    "#include<vector>  \n",
    "using namespace std;  \n",
    "int main()  \n",
    "{  \n",
    "vector<string>  fruit{\"mango\",\"apple\",\"strawbery\",\"kiwi\",\"banana\"};  \n",
    "cout<<\"fruit names are :\";  \n",
    "for(int i=0;i<fruit.size();i++)  \n",
    "cout<<fruit[i]<<\" \";  \n",
    "cout<<'\\n';  \n",
    "fruit.erase(fruit.begin()+1,fruit.begin()+3);  \n",
    "cout<<\"After removing apple and strawbery fruits,\"<<'\\n';  \n",
    "for(int i=0;i<fruit.size();i++)  \n",
    "cout<<fruit[i]<<\" \";  \n",
    "return 0;  \n",
    "}  "
   ]
  },
  {
   "cell_type": "code",
   "execution_count": null,
   "metadata": {
    "vscode": {
     "languageId": "cpp"
    }
   },
   "outputs": [],
   "source": [
    "//v.resize(n,val);  \n",
    "\n",
    "#include<iostream>  \n",
    "#include<vector>  \n",
    "using namespace std;  \n",
    "int main()  \n",
    "{  \n",
    "    vector<string>  v1{\"java\",\"C\",\"C++\"};  \n",
    "    cout<<\"Elements of v1 are :\";  \n",
    "    for(int i=0;i<v1.size();i++)  \n",
    "    cout<<v1[i]<<\" \";  \n",
    "    cout<<endl;\n",
    "    v1.resize(5,\".Net\");  \n",
    "    for(int i=0;i<v1.size();i++)  \n",
    "    cout<<v1[i]<<\" \";  \n",
    "    return 0;  \n",
    "}  "
   ]
  },
  {
   "cell_type": "code",
   "execution_count": null,
   "metadata": {
    "vscode": {
     "languageId": "cpp"
    }
   },
   "outputs": [],
   "source": [
    "//v.assign(first,last);  \n",
    "//v.assign(n,val);  \n",
    "\n",
    "#include<iostream>  \n",
    "#include<vector>  \n",
    "using namespace std;  \n",
    "int main()  \n",
    "{  \n",
    "    vector<int> v{1,2,3,4,5};  \n",
    "    vector<int> v1;  \n",
    "    v1.assign(v.begin()+1,v.end()-1);  \n",
    "    for(int i=0;i<v1.size();i++)  \n",
    "    std::cout<<v1[i] <<std::endl;  \n",
    "    return 0;  \n",
    "}  "
   ]
  },
  {
   "cell_type": "code",
   "execution_count": null,
   "metadata": {
    "vscode": {
     "languageId": "cpp"
    }
   },
   "outputs": [],
   "source": [
    "#include <iostream>  \n",
    "#include<vector>  \n",
    "using namespace std;  \n",
    "int main()  \n",
    "{  \n",
    "vector<int> v{1,2,3,4,5};  \n",
    "vector<int>::reverse_iterator ritr;  \n",
    "for(ritr=v.rbegin();ritr!=v.rend();ritr++)  \n",
    "std::cout<< *ritr<<\" \";  \n",
    "return 0;  \n",
    "}  "
   ]
  },
  {
   "cell_type": "code",
   "execution_count": null,
   "metadata": {
    "vscode": {
     "languageId": "cpp"
    }
   },
   "outputs": [],
   "source": []
  },
  {
   "cell_type": "code",
   "execution_count": null,
   "metadata": {},
   "outputs": [],
   "source": []
  },
  {
   "cell_type": "code",
   "execution_count": null,
   "metadata": {},
   "outputs": [],
   "source": []
  },
  {
   "cell_type": "code",
   "execution_count": null,
   "metadata": {},
   "outputs": [],
   "source": []
  },
  {
   "cell_type": "code",
   "execution_count": null,
   "metadata": {},
   "outputs": [],
   "source": []
  }
 ],
 "metadata": {
  "kernelspec": {
   "display_name": "Python 3.9.7 ('base')",
   "language": "python",
   "name": "python3"
  },
  "language_info": {
   "name": "python",
   "version": "3.9.7"
  },
  "orig_nbformat": 4,
  "vscode": {
   "interpreter": {
    "hash": "429c4da532d5a49305ad374da5bd9411413fc9c5f93bdb5e51c34bc796003ebd"
   }
  }
 },
 "nbformat": 4,
 "nbformat_minor": 2
}
